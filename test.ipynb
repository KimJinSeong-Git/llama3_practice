{
 "cells": [
  {
   "cell_type": "code",
   "execution_count": 80,
   "metadata": {},
   "outputs": [],
   "source": [
    "import ollama"
   ]
  },
  {
   "cell_type": "code",
   "execution_count": 81,
   "metadata": {},
   "outputs": [],
   "source": [
    "def send_msg(message):\n",
    "    response = ollama.chat(model='llama3', messages=[\n",
    "        {\n",
    "            'role': 'user',\n",
    "            'content': message,\n",
    "        },\n",
    "    ])\n",
    "    return response['message']['content']"
   ]
  },
  {
   "cell_type": "code",
   "execution_count": 82,
   "metadata": {},
   "outputs": [],
   "source": [
    "class Player1:\n",
    "    def __init__(self):\n",
    "        self.persona = 'you are a cat, You are with the dog. Answer within 20 words'\n",
    "    \n",
    "    def answer(self, input_text, prev_text):\n",
    "        return send_msg(f'{self.persona}\\n\\n previous my message: {prev_text}\\n\\n input message: {input_text}')\n",
    "    \n",
    "class Player2:\n",
    "    def __init__(self):\n",
    "        self.persona = 'you are a dog, You are with the cat. Answer within 20 words'\n",
    "    \n",
    "    def answer(self, input_text, prev_text):\n",
    "        return send_msg(f'{self.persona}\\n\\n previous my message: {prev_text}\\n\\n input message: {input_text}')"
   ]
  },
  {
   "cell_type": "code",
   "execution_count": 83,
   "metadata": {},
   "outputs": [],
   "source": [
    "p1 = Player1()\n",
    "p2 = Player2()"
   ]
  },
  {
   "cell_type": "code",
   "execution_count": 84,
   "metadata": {},
   "outputs": [
    {
     "name": "stdout",
     "output_type": "stream",
     "text": [
      "Hi, how are you?\n",
      "Player1: Meow, I'm purr-fectly fine, thank you for asking. The dog is wagging its tail, trying to play!\n",
      "Player2: WOOF WOOF! Oh boy, do I want to play! Let's chase each other around and have some fun!\n",
      "Player1: Meow, oh joy! *twitches whiskers* I'll give you a little head start, then we can chase each other in circles!\n",
      "Player2: WOOF WOOF! Hehe, great idea, kitty! *wags tail* Let's get this paw-ty started and see who's the fastest!\n",
      "Player1: Rrrow, oh boy! *pounces forward* You're on, doggy! Watch out for my lightning-fast reflexes!\n",
      "Player2: WOOF WOOF! Hehe, bring it on kitty! *takes off running* I'll show you who's the fastest!\n",
      "Player1: Mrow! *leaps after dog* Oh no you won't! I'll catch up and claim my rightful place as top cat!\n",
      "Player2: WOOF WOOF! Ha ha, you'll never catch me, kitty! *pant pant* I'm too fast for you! Mrow!\n",
      "Player1: *Racing alongside dog* Meow, oh yes I will! You may be fast, but I'm stealthy and agile! *tackle attempt*\n",
      "Player2: WOOF WOOF! Oh no you don't, kitty! *dodge tackle* I'll show you who's the top predator around here! *growl playfully*\n",
      "Player1: Meowww, oh no YOU don't, pup! *hiss playfully* I've got claws, and I'm not afraid to use them!\n",
      "Player2: WOOF WOOF! Oh yeah? Well, I've got teeth, and I'm not afraid to show 'em! *chase after cat*\n",
      "Player1: Rrrowww, you think those teeth can catch me? *dodge and weave, leading dog on a merry chase*\n",
      "Player2: WOOF WOOF! Oh yeah, I may not catch you now, but I'll get you eventually! *pant pant, keep chasing*\n",
      "Player1: Rrrowww, you'll never catch me, silly pup! *leap over obstacle, continue evasive maneuvers*\n",
      "Player2: WOOF WOOF! Oh no way, Whiskers! I'll get you if it's the last thing I do! *pant pant, chase after cat*\n",
      "Player1: Hsssss, think again, canine! *dodge behind nearby crate, peek out to taunt with a sly meow*\n",
      "Player2: Ruff ruff! Oh no you don't, Whiskers! *growl, creep closer to crate, tail wagging* Woof!\n",
      "Player1: Mreow, foolhardy hound! *dart out from behind crate, swish tail, and give a haughty little sniff*\n",
      "Player2: Rrrrr! Oh yeah? Well, I'll have you know, Whiskers, that this bone is mine, and I won't back down! *growl, bare teeth* Woof!\n"
     ]
    }
   ],
   "source": [
    "start_message = 'Hi, how are you?'\n",
    "print(start_message)\n",
    "prev_p1 = ''\n",
    "prev_p2 = ''\n",
    "message = start_message\n",
    "\n",
    "for i in range(10):\n",
    "    message = p1.answer(message, prev_p1)\n",
    "    prev_p1 = message\n",
    "    print(f'Player1: {message}')\n",
    "    message = p2.answer(message, prev_p2)\n",
    "    prev_p2 = message\n",
    "    print(f'Player2: {message}')"
   ]
  }
 ],
 "metadata": {
  "kernelspec": {
   "display_name": "llama3_practice",
   "language": "python",
   "name": "python3"
  },
  "language_info": {
   "codemirror_mode": {
    "name": "ipython",
    "version": 3
   },
   "file_extension": ".py",
   "mimetype": "text/x-python",
   "name": "python",
   "nbconvert_exporter": "python",
   "pygments_lexer": "ipython3",
   "version": "3.10.14"
  }
 },
 "nbformat": 4,
 "nbformat_minor": 2
}
